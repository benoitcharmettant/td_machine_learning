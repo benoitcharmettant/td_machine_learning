{
 "cells": [
  {
   "cell_type": "code",
   "execution_count": null,
   "metadata": {},
   "outputs": [],
   "source": [
    "from os.path import join\n",
    "\n",
    "from random import sample, seed\n",
    "\n",
    "import h5py\n",
    "\n",
    "from pandas import read_csv, DataFrame"
   ]
  },
  {
   "cell_type": "code",
   "execution_count": null,
   "metadata": {},
   "outputs": [],
   "source": [
    "data_dir = \"/home/benoit/data/dreem_challenge/\"\n",
    "data_path = \"/home/benoit/data/dreem_challenge/X_train/X_train.h5\"\n",
    "labels_path = \"/home/benoit/data/dreem_challenge/y_train.csv\"\n",
    "\n",
    "d = h5py.File(data_path, 'r')\n",
    "labels = read_csv(labels_path)\n",
    "\n",
    "print(d.keys())"
   ]
  },
  {
   "cell_type": "code",
   "execution_count": null,
   "metadata": {},
   "outputs": [],
   "source": [
    "meta_data = DataFrame()\n",
    "\n",
    "meta_data['index'] = d['index_absolute'][()]\n",
    "meta_data['subject_id'] = d['index'][()]\n",
    "meta_data['window'] = d['index_window'][()]\n",
    "meta_data['label'] = labels['sleep_stage']\n",
    "\n",
    "_N_ = len(meta_data)\n",
    "_F_ = 50"
   ]
  },
  {
   "cell_type": "code",
   "execution_count": null,
   "metadata": {},
   "outputs": [],
   "source": [
    "from tools.plot import plot_eeg\n",
    "\n",
    "index = 300  \n",
    "\n",
    "# plot_eeg(index, d, meta_data)"
   ]
  },
  {
   "cell_type": "code",
   "execution_count": null,
   "metadata": {},
   "outputs": [],
   "source": [
    "# Etudes des features\n",
    "\n",
    "from tools.plot import compare_feature\n",
    "from tools.features import *\n",
    "\n",
    "from tsfresh.feature_extraction.feature_calculators import autocorrelation, cid_ce, benford_correlation\n",
    "\n",
    "def autocorr_100(x):\n",
    "    return autocorrelation(x, 100)\n",
    "\n",
    "\n",
    "def benford_corr(x):\n",
    "    return benford_correlation(x)\n",
    "\n",
    "\n",
    "spl = sample([i for i in range(_N_)], 700)\n",
    "\n",
    "# compare_feature(fft_centroid, d, meta_data, sample=spl, col=[\"eeg_1\",\"eeg_2\",\"eeg_3\",\"eeg_4\",\"eeg_5\",\"eeg_6\",\"eeg_7\"])"
   ]
  },
  {
   "cell_type": "code",
   "execution_count": null,
   "metadata": {},
   "outputs": [],
   "source": [
    "from tools.features_class import *\n",
    "from tools.processing import extract_all_features, extract_features\n",
    "\n",
    "func_class = [Complexity]\n",
    "columns = [\"eeg_1\",\"eeg_2\",\"eeg_3\",\"eeg_4\",\"eeg_5\",\"eeg_6\",\"eeg_7\"]\n",
    "# columns =['pulse', 'x', 'y', 'z']\n",
    "\n",
    "# extract_features(func_class, d, sample=[0,1,2,3], col=[\"eeg_1\",\"eeg_2\",\"eeg_3\",\"eeg_4\",\"eeg_5\",\"eeg_6\",\"eeg_7\"], verbose_end='\\r')\n",
    "\n",
    "extract_all_features(func_class, data=d, save=join(data_dir, \"computed\", \"base_6_train.csv\"), col=columns)\n"
   ]
  },
  {
   "cell_type": "code",
   "execution_count": null,
   "metadata": {},
   "outputs": [],
   "source": [
    "eval_path = \"/home/benoit/data/dreem_challenge/X_test/X_test.h5\"\n",
    "\n",
    "d_eval = h5py.File(eval_path, 'r')\n",
    "\n",
    "extract_all_features(func_class, data=d_eval, save=join(data_dir, \"computed\", \"base_6_eval.csv\"), col=columns)"
   ]
  },
  {
   "cell_type": "code",
   "execution_count": null,
   "metadata": {},
   "outputs": [],
   "source": []
  }
 ],
 "metadata": {
  "kernelspec": {
   "display_name": "dreem_challenge",
   "language": "python",
   "name": "dreem_challenge"
  },
  "language_info": {
   "codemirror_mode": {
    "name": "ipython",
    "version": 3
   },
   "file_extension": ".py",
   "mimetype": "text/x-python",
   "name": "python",
   "nbconvert_exporter": "python",
   "pygments_lexer": "ipython3",
   "version": "3.8.3"
  }
 },
 "nbformat": 4,
 "nbformat_minor": 4
}
