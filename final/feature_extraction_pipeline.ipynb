{
 "cells": [
  {
   "cell_type": "code",
   "execution_count": 1,
   "metadata": {},
   "outputs": [],
   "source": [
    "from os.path import join\n",
    "\n",
    "from random import sample, seed\n",
    "\n",
    "import h5py\n",
    "\n",
    "from pandas import read_csv, DataFrame"
   ]
  },
  {
   "cell_type": "code",
   "execution_count": 2,
   "metadata": {},
   "outputs": [
    {
     "name": "stdout",
     "output_type": "stream",
     "text": [
      "<KeysViewHDF5 ['eeg_1', 'eeg_2', 'eeg_3', 'eeg_4', 'eeg_5', 'eeg_6', 'eeg_7', 'index', 'index_absolute', 'index_window', 'pulse', 'x', 'y', 'z']>\n"
     ]
    }
   ],
   "source": [
    "data_dir = \"/home/benoit/data/dreem_challenge/\"\n",
    "data_path = \"/home/benoit/data/dreem_challenge/X_train/X_train.h5\"\n",
    "labels_path = \"/home/benoit/data/dreem_challenge/y_train.csv\"\n",
    "\n",
    "d = h5py.File(data_path, 'r')\n",
    "labels = read_csv(labels_path)\n",
    "\n",
    "print(d.keys())"
   ]
  },
  {
   "cell_type": "code",
   "execution_count": 3,
   "metadata": {},
   "outputs": [],
   "source": [
    "meta_data = DataFrame()\n",
    "\n",
    "meta_data['index'] = d['index_absolute'][()]\n",
    "meta_data['subject_id'] = d['index'][()]\n",
    "meta_data['window'] = d['index_window'][()]\n",
    "meta_data['label'] = labels['sleep_stage']\n",
    "\n",
    "_N_ = len(meta_data)\n",
    "_F_ = 50"
   ]
  },
  {
   "cell_type": "code",
   "execution_count": 4,
   "metadata": {},
   "outputs": [],
   "source": [
    "from tools.plot import plot_eeg\n",
    "\n",
    "index = 300  \n",
    "\n",
    "# plot_eeg(index, d, meta_data)"
   ]
  },
  {
   "cell_type": "code",
   "execution_count": 5,
   "metadata": {},
   "outputs": [],
   "source": [
    "# Etudes des features\n",
    "\n",
    "from tools.plot import compare_feature\n",
    "from tools.features import *\n",
    "\n",
    "\n",
    "spl = sample([i for i in range(_N_)], 2000)\n",
    "\n",
    "# compare_feature(log_variance, d, meta_data, sample=spl, col=['pulse', 'x', 'y', 'z'])"
   ]
  },
  {
   "cell_type": "code",
   "execution_count": 6,
   "metadata": {},
   "outputs": [
    {
     "name": "stdout",
     "output_type": "stream",
     "text": [
      ">>> 24689 / 24688 <<< (Remains : -1 day, 23:59:59.832956)\r"
     ]
    }
   ],
   "source": [
    "from tools.features_class import *\n",
    "from tools.processing import extract_all_features, extract_features\n",
    "\n",
    "func_class = [Frequency_bands]\n",
    "columns = [\"eeg_1\",\"eeg_2\",\"eeg_3\",\"eeg_4\",\"eeg_5\",\"eeg_6\",\"eeg_7\"]\n",
    "# columns =['pulse', 'x', 'y', 'z']\n",
    "\n",
    "# extract_features(func_class, d, sample=[0,1,2,3], col=[\"eeg_1\",\"eeg_2\",\"eeg_3\",\"eeg_4\",\"eeg_5\",\"eeg_6\",\"eeg_7\"], verbose_end='\\r')\n",
    "\n",
    "extract_all_features(func_class, data=d, save=join(data_dir, \"computed\", \"base_4_train.csv\"), col=columns)\n"
   ]
  },
  {
   "cell_type": "code",
   "execution_count": 7,
   "metadata": {},
   "outputs": [
    {
     "name": "stdout",
     "output_type": "stream",
     "text": [
      ">>> 24981 / 24980 <<< (Remains : -1 day, 23:59:59.841057)\r"
     ]
    }
   ],
   "source": [
    "eval_path = \"/home/benoit/data/dreem_challenge/X_test/X_test.h5\"\n",
    "\n",
    "d_eval = h5py.File(eval_path, 'r')\n",
    "\n",
    "extract_all_features(func_class, data=d_eval, save=join(data_dir, \"computed\", \"base_4_eval.csv\"), col=columns)"
   ]
  },
  {
   "cell_type": "code",
   "execution_count": null,
   "metadata": {},
   "outputs": [],
   "source": []
  }
 ],
 "metadata": {
  "kernelspec": {
   "display_name": "dreem_challenge",
   "language": "python",
   "name": "dreem_challenge"
  },
  "language_info": {
   "codemirror_mode": {
    "name": "ipython",
    "version": 3
   },
   "file_extension": ".py",
   "mimetype": "text/x-python",
   "name": "python",
   "nbconvert_exporter": "python",
   "pygments_lexer": "ipython3",
   "version": "3.8.5"
  }
 },
 "nbformat": 4,
 "nbformat_minor": 4
}
