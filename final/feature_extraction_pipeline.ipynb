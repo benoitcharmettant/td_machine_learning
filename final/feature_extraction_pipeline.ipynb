{
 "cells": [
  {
   "cell_type": "code",
   "execution_count": 1,
   "metadata": {},
   "outputs": [],
   "source": [
    "from os.path import join\n",
    "\n",
    "from random import sample, seed\n",
    "\n",
    "import h5py\n",
    "\n",
    "from pandas import read_csv, DataFrame"
   ]
  },
  {
   "cell_type": "code",
   "execution_count": 2,
   "metadata": {},
   "outputs": [
    {
     "name": "stdout",
     "output_type": "stream",
     "text": [
      "<KeysViewHDF5 ['eeg_1', 'eeg_2', 'eeg_3', 'eeg_4', 'eeg_5', 'eeg_6', 'eeg_7', 'index', 'index_absolute', 'index_window', 'pulse', 'x', 'y', 'z']>\n"
     ]
    }
   ],
   "source": [
    "data_dir = \"/home/benoit/data/dreem_challenge/\"\n",
    "data_path = \"/home/benoit/data/dreem_challenge/X_train/X_train.h5\"\n",
    "labels_path = \"/home/benoit/data/dreem_challenge/y_train.csv\"\n",
    "\n",
    "d = h5py.File(data_path, 'r')\n",
    "labels = read_csv(labels_path)\n",
    "\n",
    "print(d.keys())"
   ]
  },
  {
   "cell_type": "code",
   "execution_count": 3,
   "metadata": {},
   "outputs": [],
   "source": [
    "meta_data = DataFrame()\n",
    "\n",
    "meta_data['index'] = d['index_absolute'][()]\n",
    "meta_data['subject_id'] = d['index'][()]\n",
    "meta_data['window'] = d['index_window'][()]\n",
    "meta_data['label'] = labels['sleep_stage']\n",
    "\n",
    "_N_ = len(meta_data)\n",
    "_F_ = 50"
   ]
  },
  {
   "cell_type": "code",
   "execution_count": 4,
   "metadata": {},
   "outputs": [],
   "source": [
    "from tools.plot import plot_eeg\n",
    "\n",
    "index = 300  \n",
    "\n",
    "# plot_eeg(index, d, meta_data)"
   ]
  },
  {
   "cell_type": "code",
   "execution_count": 5,
   "metadata": {},
   "outputs": [],
   "source": [
    "# Etudes des features\n",
    "\n",
    "from tools.plot import compare_feature\n",
    "from tools.features import *\n",
    "\n",
    "\n",
    "spl = sample([i for i in range(_N_)], 500)\n",
    "\n",
    "# compare_feature(log_kurtosis, d, meta_data, sample=spl, col=['x', 'y', 'z'])"
   ]
  },
  {
   "cell_type": "code",
   "execution_count": 6,
   "metadata": {},
   "outputs": [
    {
     "name": "stdout",
     "output_type": "stream",
     "text": [
      ">>> 4 / 3 <<< (Remains : -1 day, 23:59:59.492199)\r"
     ]
    },
    {
     "data": {
      "text/html": [
       "<div>\n",
       "<style scoped>\n",
       "    .dataframe tbody tr th:only-of-type {\n",
       "        vertical-align: middle;\n",
       "    }\n",
       "\n",
       "    .dataframe tbody tr th {\n",
       "        vertical-align: top;\n",
       "    }\n",
       "\n",
       "    .dataframe thead th {\n",
       "        text-align: right;\n",
       "    }\n",
       "</style>\n",
       "<table border=\"1\" class=\"dataframe\">\n",
       "  <thead>\n",
       "    <tr style=\"text-align: right;\">\n",
       "      <th></th>\n",
       "      <th>eeg_1_log_ampl</th>\n",
       "      <th>eeg_1_zero_crossings</th>\n",
       "      <th>eeg_1_f_1</th>\n",
       "      <th>eeg_1_f_2</th>\n",
       "      <th>eeg_2_log_ampl</th>\n",
       "      <th>eeg_2_zero_crossings</th>\n",
       "      <th>eeg_2_f_1</th>\n",
       "      <th>eeg_2_f_2</th>\n",
       "      <th>eeg_3_log_ampl</th>\n",
       "      <th>eeg_3_zero_crossings</th>\n",
       "      <th>...</th>\n",
       "      <th>eeg_5_f_1</th>\n",
       "      <th>eeg_5_f_2</th>\n",
       "      <th>eeg_6_log_ampl</th>\n",
       "      <th>eeg_6_zero_crossings</th>\n",
       "      <th>eeg_6_f_1</th>\n",
       "      <th>eeg_6_f_2</th>\n",
       "      <th>eeg_7_log_ampl</th>\n",
       "      <th>eeg_7_zero_crossings</th>\n",
       "      <th>eeg_7_f_1</th>\n",
       "      <th>eeg_7_f_2</th>\n",
       "    </tr>\n",
       "  </thead>\n",
       "  <tbody>\n",
       "    <tr>\n",
       "      <th>0</th>\n",
       "      <td>14.682381</td>\n",
       "      <td>284.0</td>\n",
       "      <td>1.0</td>\n",
       "      <td>2.0</td>\n",
       "      <td>13.479267</td>\n",
       "      <td>63.0</td>\n",
       "      <td>1.0</td>\n",
       "      <td>2.0</td>\n",
       "      <td>13.426807</td>\n",
       "      <td>89.0</td>\n",
       "      <td>...</td>\n",
       "      <td>1.0</td>\n",
       "      <td>2.0</td>\n",
       "      <td>10.505441</td>\n",
       "      <td>187.0</td>\n",
       "      <td>1.0</td>\n",
       "      <td>2.0</td>\n",
       "      <td>14.672026</td>\n",
       "      <td>308.0</td>\n",
       "      <td>1.0</td>\n",
       "      <td>2.0</td>\n",
       "    </tr>\n",
       "    <tr>\n",
       "      <th>1</th>\n",
       "      <td>14.225629</td>\n",
       "      <td>156.0</td>\n",
       "      <td>1.0</td>\n",
       "      <td>2.0</td>\n",
       "      <td>14.001155</td>\n",
       "      <td>23.0</td>\n",
       "      <td>1.0</td>\n",
       "      <td>2.0</td>\n",
       "      <td>13.994592</td>\n",
       "      <td>23.0</td>\n",
       "      <td>...</td>\n",
       "      <td>1.0</td>\n",
       "      <td>2.0</td>\n",
       "      <td>10.034286</td>\n",
       "      <td>102.0</td>\n",
       "      <td>1.0</td>\n",
       "      <td>2.0</td>\n",
       "      <td>14.225478</td>\n",
       "      <td>204.0</td>\n",
       "      <td>1.0</td>\n",
       "      <td>2.0</td>\n",
       "    </tr>\n",
       "    <tr>\n",
       "      <th>2</th>\n",
       "      <td>8.813661</td>\n",
       "      <td>189.0</td>\n",
       "      <td>1.0</td>\n",
       "      <td>2.0</td>\n",
       "      <td>12.986753</td>\n",
       "      <td>50.0</td>\n",
       "      <td>1.0</td>\n",
       "      <td>2.0</td>\n",
       "      <td>12.987596</td>\n",
       "      <td>44.0</td>\n",
       "      <td>...</td>\n",
       "      <td>1.0</td>\n",
       "      <td>2.0</td>\n",
       "      <td>9.389540</td>\n",
       "      <td>58.0</td>\n",
       "      <td>1.0</td>\n",
       "      <td>2.0</td>\n",
       "      <td>8.774888</td>\n",
       "      <td>143.0</td>\n",
       "      <td>1.0</td>\n",
       "      <td>2.0</td>\n",
       "    </tr>\n",
       "  </tbody>\n",
       "</table>\n",
       "<p>3 rows × 28 columns</p>\n",
       "</div>"
      ],
      "text/plain": [
       "   eeg_1_log_ampl  eeg_1_zero_crossings  eeg_1_f_1  eeg_1_f_2  eeg_2_log_ampl  \\\n",
       "0       14.682381                 284.0        1.0        2.0       13.479267   \n",
       "1       14.225629                 156.0        1.0        2.0       14.001155   \n",
       "2        8.813661                 189.0        1.0        2.0       12.986753   \n",
       "\n",
       "   eeg_2_zero_crossings  eeg_2_f_1  eeg_2_f_2  eeg_3_log_ampl  \\\n",
       "0                  63.0        1.0        2.0       13.426807   \n",
       "1                  23.0        1.0        2.0       13.994592   \n",
       "2                  50.0        1.0        2.0       12.987596   \n",
       "\n",
       "   eeg_3_zero_crossings  ...  eeg_5_f_1  eeg_5_f_2  eeg_6_log_ampl  \\\n",
       "0                  89.0  ...        1.0        2.0       10.505441   \n",
       "1                  23.0  ...        1.0        2.0       10.034286   \n",
       "2                  44.0  ...        1.0        2.0        9.389540   \n",
       "\n",
       "   eeg_6_zero_crossings  eeg_6_f_1  eeg_6_f_2  eeg_7_log_ampl  \\\n",
       "0                 187.0        1.0        2.0       14.672026   \n",
       "1                 102.0        1.0        2.0       14.225478   \n",
       "2                  58.0        1.0        2.0        8.774888   \n",
       "\n",
       "   eeg_7_zero_crossings  eeg_7_f_1  eeg_7_f_2  \n",
       "0                 308.0        1.0        2.0  \n",
       "1                 204.0        1.0        2.0  \n",
       "2                 143.0        1.0        2.0  \n",
       "\n",
       "[3 rows x 28 columns]"
      ]
     },
     "execution_count": 6,
     "metadata": {},
     "output_type": "execute_result"
    }
   ],
   "source": [
    "from tools.features_class import *\n",
    "from tools.processing import extract_all_features, extract_features\n",
    "\n",
    "func_class = [Log_ampl, Zero_crossings, Test]\n",
    "columns = [\"eeg_1\",\"eeg_2\",\"eeg_3\",\"eeg_4\",\"eeg_5\",\"eeg_6\",\"eeg_7\"]\n",
    "\n",
    "\n",
    "extract_all_features(func_class, data=d, save=join(data_dir, \"computed\", \"base_X_train.csv\"), col=columns)\n"
   ]
  },
  {
   "cell_type": "code",
   "execution_count": null,
   "metadata": {},
   "outputs": [],
   "source": [
    "eval_path = \"/home/benoit/data/dreem_challenge/X_test/X_test.h5\"\n",
    "\n",
    "d_eval = h5py.File(eval_path, 'r')\n",
    "\n",
    "extract_all_features(features, data=d_eval, save=join(data_dir, \"computed\", \"base_X_eval.csv\"), col=columns)"
   ]
  }
 ],
 "metadata": {
  "kernelspec": {
   "display_name": "dreem_challenge",
   "language": "python",
   "name": "dreem_challenge"
  },
  "language_info": {
   "codemirror_mode": {
    "name": "ipython",
    "version": 3
   },
   "file_extension": ".py",
   "mimetype": "text/x-python",
   "name": "python",
   "nbconvert_exporter": "python",
   "pygments_lexer": "ipython3",
   "version": "3.8.5"
  }
 },
 "nbformat": 4,
 "nbformat_minor": 4
}
