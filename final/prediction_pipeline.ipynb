{
 "cells": [
  {
   "cell_type": "code",
   "execution_count": 7,
   "metadata": {},
   "outputs": [],
   "source": [
    "from os.path import join\n",
    "\n",
    "from pandas import read_csv\n",
    "\n",
    "from sklearn.svm import SVC\n",
    "from sklearn.ensemble import RandomForestClassifier\n",
    "from sklearn.neighbors import KNeighborsClassifier\n",
    "from sklearn.naive_bayes import GaussianNB \n",
    "\n",
    "from sklearn.model_selection import train_test_split\n",
    "from sklearn.preprocessing import normalize\n",
    "\n",
    "from sklearn.metrics import f1_score"
   ]
  },
  {
   "cell_type": "code",
   "execution_count": 12,
   "metadata": {},
   "outputs": [],
   "source": [
    "data_dir = \"/home/benoit/data/dreem_challenge/\"\n",
    "labels_path = \"/home/benoit/data/dreem_challenge/y_train.csv\"\n",
    "\n",
    "labels = read_csv(labels_path)"
   ]
  },
  {
   "cell_type": "code",
   "execution_count": 15,
   "metadata": {},
   "outputs": [],
   "source": [
    "from tools.processing import load_features, merge_features\n",
    "\n",
    "features_1 = load_features(join(data_dir, \"computed\", 'base_1_train.csv'))\n",
    "features_2 = load_features(join(data_dir, \"computed\", 'base_2_train.csv'))\n",
    "\n",
    "f_train = merge_features([features_1, features_2])\n",
    "y = labels\n",
    "f_train = f_train.drop(['abs_index'], axis=1)"
   ]
  },
  {
   "cell_type": "code",
   "execution_count": 7,
   "metadata": {},
   "outputs": [],
   "source": [
    "X_train, X_test, y_train, y_test = train_test_split(f_train, y, test_size = 0.1)\n",
    "\n",
    "# Features preprocessing (noramlization etc...)\n",
    "\n",
    "# ...\n",
    "\n",
    "# ...\n",
    "\n",
    "#"
   ]
  },
  {
   "cell_type": "code",
   "execution_count": 1,
   "metadata": {},
   "outputs": [],
   "source": [
    "# Feature Selection\n",
    "from sklearn.feature_selection import SelectKBest\n",
    "from sklearn.feature_selection import f_classif\n",
    "\n",
    "# slct = SelectKBest(f_classif, k=10)\n",
    "\n",
    "# X_train = slct.fit_transform(X_train, y_train)\n",
    "# X_test = slct.transform(X_test)\n"
   ]
  },
  {
   "cell_type": "code",
   "execution_count": 4,
   "metadata": {},
   "outputs": [],
   "source": [
    "# Model initialization\n",
    "\n",
    "clf = RandomForestClassifier(n_estimators=100, criterion='gini', max_depth=None)\n",
    "#clf = KNeighborsClassifier(n_neighbors = 15)\n",
    "#clf= SVC(kernel = 'linear', C = 1)\n",
    "#clf = GaussianNB()"
   ]
  },
  {
   "cell_type": "code",
   "execution_count": 5,
   "metadata": {},
   "outputs": [],
   "source": [
    "# Hyperparameter tuning (k-fold etc...)\n",
    "\n",
    "# ...\n",
    "\n",
    "# ...\n",
    "\n",
    "#"
   ]
  },
  {
   "cell_type": "code",
   "execution_count": null,
   "metadata": {},
   "outputs": [],
   "source": [
    "# Model training\n",
    "\n",
    "clf.fit(X_train, y_train)\n",
    "\n",
    "predictions = clf.predict(X_train)\n",
    "print(f\"Training score - {f1_score(predictions, y_train, average='weighted')}\")\n",
    "\n",
    "predictions = clf.predict(X_test)\n",
    "print(f\"Testing score - {f1_score(predictions, y_test, average='weighted')}\")"
   ]
  },
  {
   "cell_type": "code",
   "execution_count": 14,
   "metadata": {},
   "outputs": [],
   "source": [
    "# Loading evaluation data\n",
    "\n",
    "f_1_e = load_features(join(data_dir, \"computed\", 'base_1_eval.csv'))\n",
    "f_2_e = load_features(join(data_dir, \"computed\", 'base_2_eval.csv'))\n",
    "\n",
    "f_eval = merge_features([f_1_e, f_2_e])\n",
    "\n",
    "f_eval = f_eval.drop(['abs_index'], axis=1)\n",
    "\n",
    "assert f_train.keys() == f_eval.keys()\n",
    "\n",
    "# Features preprocessing & Feature selection (both must be applied as for training features)\n",
    "\n",
    "# ...\n",
    "\n",
    "# ...\n",
    "\n",
    "#"
   ]
  },
  {
   "cell_type": "code",
   "execution_count": null,
   "metadata": {},
   "outputs": [],
   "source": [
    "# Making prediction on eval data\n",
    "\n",
    "eval_pred = clf.predict(f_eval)\n",
    "\n",
    "sub = read_csv(join(data_dir, 'sample_submission.csv'))\n",
    "sub['sleep_stage'] = eval_pred\n",
    "\n",
    "sub.to_csv(\"output/submission.csv\", index=False)"
   ]
  }
 ],
 "metadata": {
  "kernelspec": {
   "display_name": "dreem_challenge",
   "language": "python",
   "name": "dreem_challenge"
  },
  "language_info": {
   "codemirror_mode": {
    "name": "ipython",
    "version": 3
   },
   "file_extension": ".py",
   "mimetype": "text/x-python",
   "name": "python",
   "nbconvert_exporter": "python",
   "pygments_lexer": "ipython3",
   "version": "3.8.5"
  }
 },
 "nbformat": 4,
 "nbformat_minor": 4
}
