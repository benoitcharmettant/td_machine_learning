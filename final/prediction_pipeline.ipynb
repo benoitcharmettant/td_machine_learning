{
 "cells": [
  {
   "cell_type": "code",
   "execution_count": 1,
   "metadata": {},
   "outputs": [],
   "source": [
    "from os.path import join\n",
    "\n",
    "from pandas import read_csv\n",
    "\n",
    "from sklearn.svm import SVC\n",
    "from sklearn.ensemble import RandomForestClassifier\n",
    "from sklearn.neighbors import KNeighborsClassifier\n",
    "from sklearn.naive_bayes import GaussianNB \n",
    "\n",
    "from sklearn.model_selection import train_test_split\n",
    "from sklearn.preprocessing import normalize\n",
    "\n",
    "from sklearn.metrics import f1_score"
   ]
  },
  {
   "cell_type": "code",
   "execution_count": 2,
   "metadata": {},
   "outputs": [],
   "source": [
    "from numpy import zeros, unique\n",
    "\n",
    "data_dir = \"/home/benoit/data/dreem_challenge/\"\n",
    "labels_path = \"/home/benoit/data/dreem_challenge/y_train.csv\"\n",
    "\n",
    "labels = read_csv(labels_path)"
   ]
  },
  {
   "cell_type": "code",
   "execution_count": 3,
   "metadata": {},
   "outputs": [],
   "source": [
    "import h5py\n",
    "from numpy import unique\n",
    "\n",
    "d = h5py.File(join(data_dir, 'X_train', 'X_train.h5'), 'r')\n",
    "\n",
    "subject = d['index'][()]"
   ]
  },
  {
   "cell_type": "code",
   "execution_count": null,
   "metadata": {},
   "outputs": [],
   "source": [
    "from tools.processing import load_features, merge_features\n",
    "\n",
    "features_1 = load_features(join(data_dir, \"computed\", 'base_1_train.csv'))\n",
    "features_2 = load_features(join(data_dir, \"computed\", 'base_2_train.csv'))\n",
    "features_3 = load_features(join(data_dir, \"computed\", 'base_3_train.csv'))\n",
    "features_4 = load_features(join(data_dir, \"computed\", 'base_4_train.csv'))\n",
    "features_5 = load_features(join(data_dir, \"computed\", 'base_5_train.csv'))\n",
    "features_6 = load_features(join(data_dir, \"computed\", 'base_6_train.csv'))\n",
    "features_7 = load_features(join(data_dir, \"computed\", 'base_7_train.csv'))\n",
    "features_8 = load_features(join(data_dir, \"computed\", 'base_8_train.csv'))\n",
    "features_9 = load_features(join(data_dir, \"computed\", 'base_9_train.csv'))\n",
    "\n",
    "f_train = merge_features([features_1, features_2, features_3, features_4, features_5, features_6, features_7])\n",
    "y = labels['sleep_stage']\n",
    "f_train = f_train.drop(['abs_index'], axis=1) "
   ]
  },
  {
   "cell_type": "code",
   "execution_count": 5,
   "metadata": {},
   "outputs": [],
   "source": [
    "from sklearn.preprocessing import StandardScaler\n",
    "\n",
    "X_train, X_test, y_train, y_test = train_test_split(f_train, y, test_size = 0.3)\n",
    "\n",
    "# Features preprocessing (noramlization etc...)\n",
    "\n",
    "scaler = StandardScaler().fit(f_train)\n",
    "\n",
    "X_train = scaler.transform(X_train)\n",
    "X_test = scaler.transform(X_test)"
   ]
  },
  {
   "cell_type": "code",
   "execution_count": 6,
   "metadata": {},
   "outputs": [],
   "source": [
    "from numpy import array, invert\n",
    "\n",
    "features_names = array(f_train.keys())"
   ]
  },
  {
   "cell_type": "code",
   "execution_count": 7,
   "metadata": {},
   "outputs": [
    {
     "name": "stdout",
     "output_type": "stream",
     "text": [
      "['eeg_1_band_gamma' 'eeg_2_band_gamma' 'eeg_3_band_gamma'\n",
      " 'eeg_4_band_gamma' 'eeg_5_band_gamma' 'eeg_6_band_gamma'\n",
      " 'eeg_7_band_gamma']\n"
     ]
    }
   ],
   "source": [
    "# Feature Selection\n",
    "\n",
    "X_train_bis = X_train\n",
    "\n",
    "# Removing features with low variance\n",
    "from sklearn.feature_selection import VarianceThreshold\n",
    "\n",
    "v = 0\n",
    "\n",
    "slct_low_variance = VarianceThreshold(threshold=v)\n",
    "X_train_bis = slct_low_variance.fit_transform(X_train_bis)\n",
    "\n",
    "low_var = slct_low_variance.get_support()\n",
    "\n",
    "print(features_names[invert(low_var)])\n",
    "features_names = features_names[low_var]"
   ]
  },
  {
   "cell_type": "code",
   "execution_count": 8,
   "metadata": {},
   "outputs": [],
   "source": [
    "from sklearn.svm import LinearSVC\n",
    "from sklearn.feature_selection import RFECV\n",
    "from sklearn.metrics import make_scorer\n",
    "\n",
    "scorer_f1 = make_scorer(f1_score, average=\"weighted\", verbose=1)\n",
    "\n",
    "lsvc = LinearSVC(C=0.01, penalty=\"l1\", dual=False)\n",
    "\n",
    "rec_slct = RFECV(lsvc, scoring = scorer_f1, verbose=2)\n",
    "\n",
    "X_train_bis = rec_slct.fit_transform(X_train_bis, y_train)\n",
    "\n",
    "l1_rec = rec_slct.get_support()\n",
    "\n",
    "print(features_names[l1_rec])"
   ]
  },
  {
   "cell_type": "code",
   "execution_count": 19,
   "metadata": {},
   "outputs": [],
   "source": [
    "X_train_bis = rec_slct.transform(X_train_bis)"
   ]
  },
  {
   "cell_type": "code",
   "execution_count": 9,
   "metadata": {},
   "outputs": [],
   "source": [
    "X_train = X_train_bis\n",
    "X_test = slct_low_variance.transform(X_test)\n",
    "X_test = rec_slct.transform(X_test)"
   ]
  },
  {
   "cell_type": "code",
   "execution_count": 34,
   "metadata": {},
   "outputs": [],
   "source": [
    "# Model initialization\n",
    "\n",
    "from sklearn.ensemble import AdaBoostClassifier\n",
    "\n",
    "# clf = RandomForestClassifier(n_estimators=100, \n",
    "#                             criterion='gini', \n",
    "#                             max_depth=None, \n",
    "#                             min_samples_leaf=0.0001, \n",
    "#                             class_weight=\"balanced\",\n",
    "#                             bootstrap = False)\n",
    "\n",
    "from sklearn.ensemble import GradientBoostingClassifier\n",
    "\n",
    "clf = GradientBoostingClassifier(n_estimators=100, learning_rate=0.1, max_depth=1)\n",
    "\n",
    "# clf = KNeighborsClassifier(n_neighbors = 15)\n",
    "\n",
    "# clf= SVC(kernel = 'linear', C = 0.01, class_weight=None)\n",
    "\n",
    "# clf = GaussianNB()"
   ]
  },
  {
   "cell_type": "code",
   "execution_count": 35,
   "metadata": {
    "scrolled": true
   },
   "outputs": [],
   "source": [
    "# Hyperparameter tuning (k-fold etc...)\n",
    "from sklearn.model_selection import GridSearchCV\n",
    "from sklearn.metrics import make_scorer\n",
    "\n",
    "scorer_f1 = make_scorer(f1_score, average=\"weighted\")\n",
    "\n",
    "param_grid_svm = [\n",
    "  {\"C\": [0.001, 0.01, 0.1], \"kernel\":[\"linear\", \"poly\", \"rbf\", \"sigmoid\"], \"class_weight\":[None, \"balanced\"]}\n",
    " ]\n",
    "\n",
    "tuner = GridSearchCV(clf, param_grid, scorer_f1,  verbose=2)\n",
    "\n",
    "res = tuner.fit(X_train, y_train)\n",
    "print(res)"
   ]
  },
  {
   "cell_type": "code",
   "execution_count": 31,
   "metadata": {},
   "outputs": [],
   "source": [
    "res.best_params_\n",
    "clf = res.best_estimator_"
   ]
  },
  {
   "cell_type": "code",
   "execution_count": null,
   "metadata": {},
   "outputs": [],
   "source": [
    "# Model training\n",
    "\n",
    "clf.fit(X_train, y_train)"
   ]
  },
  {
   "cell_type": "code",
   "execution_count": 37,
   "metadata": {},
   "outputs": [
    {
     "name": "stdout",
     "output_type": "stream",
     "text": [
      "Training score - 0.7722010076447845\n",
      "Testing score - 0.6712892631167978\n"
     ]
    }
   ],
   "source": [
    "# Model verifications\n",
    "\n",
    "predictions_train = clf.predict(X_train)\n",
    "print(f\"Training score - {f1_score(predictions_train, y_train, average='weighted')}\")\n",
    "\n",
    "predictions_test = clf.predict(X_test)\n",
    "print(f\"Testing score - {f1_score(predictions_test, y_test, average='weighted')}\")"
   ]
  },
  {
   "cell_type": "code",
   "execution_count": null,
   "metadata": {},
   "outputs": [],
   "source": [
    "# Analyse des résultats \n",
    "from sklearn.metrics import confusion_matrix\n",
    "from seaborn import heatmap\n",
    "from matplotlib.pyplot import show\n",
    "\n",
    "cm = confusion_matrix(y_test, predictions_test, normalize=\"true\")\n",
    "ax = heatmap(cm, annot=True)\n",
    "show()"
   ]
  },
  {
   "cell_type": "code",
   "execution_count": 51,
   "metadata": {},
   "outputs": [
    {
     "name": "stdout",
     "output_type": "stream",
     "text": [
      "Counter({2: 2833, 3: 1552, 4: 1481, 0: 1062, 1: 479})\n",
      "Counter({2: 3286, 3: 1540, 4: 1325, 0: 1137, 1: 119})\n"
     ]
    }
   ],
   "source": [
    "from collections import Counter\n",
    "\n",
    "print(Counter(y_test))\n",
    "print(Counter(predictions_test))"
   ]
  },
  {
   "cell_type": "code",
   "execution_count": 52,
   "metadata": {},
   "outputs": [],
   "source": [
    "# Loading evaluation data\n",
    "\n",
    "f_1_e = load_features(join(data_dir, \"computed\", 'base_1_eval.csv'))\n",
    "f_2_e = load_features(join(data_dir, \"computed\", 'base_2_eval.csv'))\n",
    "f_3_e = load_features(join(data_dir, \"computed\", 'base_3_eval.csv'))\n",
    "f_4_e = load_features(join(data_dir, \"computed\", 'base_4_eval.csv'))\n",
    "f_5_e = load_features(join(data_dir, \"computed\", 'base_5_eval.csv'))\n",
    "f_6_e = load_features(join(data_dir, \"computed\", 'base_6_eval.csv'))\n",
    "f_7_e = load_features(join(data_dir, \"computed\", 'base_7_eval.csv'))\n",
    "f_8_e = load_features(join(data_dir, \"computed\", 'base_8_eval.csv'))\n",
    "f_9_e = load_features(join(data_dir, \"computed\", 'base_9_eval.csv'))\n",
    "\n",
    "f_eval = merge_features([f_1_e, f_2_e, f_3_e, f_4_e, f_5_e, f_6_e, f_7_e])\n",
    "\n",
    "f_eval = f_eval.drop(['abs_index'], axis=1)\n",
    "\n",
    "# Features preprocessing & Feature selection (both must be applied as for training features)\n",
    "\n",
    "X_eval = scaler.transform(f_eval)\n",
    "\n",
    "X_eval = slct_low_variance.transform(X_eval)\n",
    "X_eval = rec_slct.transform(X_eval)"
   ]
  },
  {
   "cell_type": "code",
   "execution_count": 53,
   "metadata": {},
   "outputs": [],
   "source": [
    "# Making prediction on eval data\n",
    "\n",
    "eval_pred = clf.predict(X_eval)\n",
    "\n",
    "sub = read_csv(join(data_dir, 'sample_submission.csv'))\n",
    "sub['sleep_stage'] = eval_pred\n",
    "\n",
    "sub.to_csv(\"output/submission.csv\", index=False)"
   ]
  }
 ],
 "metadata": {
  "kernelspec": {
   "display_name": "dreem_challenge",
   "language": "python",
   "name": "dreem_challenge"
  },
  "language_info": {
   "codemirror_mode": {
    "name": "ipython",
    "version": 3
   },
   "file_extension": ".py",
   "mimetype": "text/x-python",
   "name": "python",
   "nbconvert_exporter": "python",
   "pygments_lexer": "ipython3",
   "version": "3.8.3"
  }
 },
 "nbformat": 4,
 "nbformat_minor": 4
}
